{
  "nbformat": 4,
  "nbformat_minor": 0,
  "metadata": {
    "colab": {
      "name": "QuarentenaDados - aula01",
      "provenance": [],
      "collapsed_sections": [],
      "include_colab_link": true
    },
    "kernelspec": {
      "name": "python3",
      "display_name": "Python 3"
    }
  },
  "cells": [
    {
      "cell_type": "markdown",
      "metadata": {
        "id": "view-in-github",
        "colab_type": "text"
      },
      "source": [
        "<a href=\"https://colab.research.google.com/github/Diogo364/-quarentenadados/blob/master/QuarentenaDados_aula01.ipynb\" target=\"_parent\"><img src=\"https://colab.research.google.com/assets/colab-badge.svg\" alt=\"Open In Colab\"/></a>"
      ]
    },
    {
      "cell_type": "markdown",
      "metadata": {
        "id": "sG6vp0eCNdi2",
        "colab_type": "text"
      },
      "source": [
        "#Aula 01 - QuarentenaDados"
      ]
    },
    {
      "cell_type": "markdown",
      "metadata": {
        "id": "f7ibSyNTXtv9",
        "colab_type": "text"
      },
      "source": [
        "## Introdução\n",
        "----\n",
        "\n",
        "Esse notebook é referente à resolução dos desafios da **Aula 01** da **#quarentenadados**."
      ]
    },
    {
      "cell_type": "markdown",
      "metadata": {
        "id": "OuYA1aSIX0vJ",
        "colab_type": "text"
      },
      "source": [
        "## Lendo os dados do MovieLens\n"
      ]
    },
    {
      "cell_type": "markdown",
      "metadata": {
        "id": "fxnxfLnmlGDb",
        "colab_type": "text"
      },
      "source": [
        "### Importando Base de Filmes"
      ]
    },
    {
      "cell_type": "code",
      "metadata": {
        "id": "fm9UvpjdRZjP",
        "colab_type": "code",
        "colab": {}
      },
      "source": [
        "import pandas as pd"
      ],
      "execution_count": 0,
      "outputs": []
    },
    {
      "cell_type": "code",
      "metadata": {
        "id": "uIoEtYpDUSbk",
        "colab_type": "code",
        "outputId": "4f7021c0-8254-47c3-fc1a-249c1421c35d",
        "colab": {
          "base_uri": "https://localhost:8080/",
          "height": 378
        }
      },
      "source": [
        "filmes = pd.read_csv(\"https://raw.githubusercontent.com/alura-cursos/introducao-a-data-science/master/aula0/ml-latest-small/movies.csv\")\n",
        "# filmes é um DataFrame\n",
        "filmes.columns = [\"filmeId\", \"titulo\", \"generos\"]\n",
        "filmes.head()"
      ],
      "execution_count": 3,
      "outputs": [
        {
          "output_type": "error",
          "ename": "HTTPError",
          "evalue": "ignored",
          "traceback": [
            "\u001b[0;31m---------------------------------------------------------------------------\u001b[0m",
            "\u001b[0;31mHTTPError\u001b[0m                                 Traceback (most recent call last)",
            "\u001b[0;32m<ipython-input-3-38933adccf49>\u001b[0m in \u001b[0;36m<module>\u001b[0;34m()\u001b[0m\n\u001b[0;32m----> 1\u001b[0;31m \u001b[0mfilmes\u001b[0m \u001b[0;34m=\u001b[0m \u001b[0mpd\u001b[0m\u001b[0;34m.\u001b[0m\u001b[0mread_csv\u001b[0m\u001b[0;34m(\u001b[0m\u001b[0;34m\"https://raw.githubusercontent.com/alura-cursos/introducao-a-data-science/master/aula0/ml-latest-small/movies.csv\"\u001b[0m\u001b[0;34m)\u001b[0m\u001b[0;34m\u001b[0m\u001b[0;34m\u001b[0m\u001b[0m\n\u001b[0m\u001b[1;32m      2\u001b[0m \u001b[0;31m# filmes é um DataFrame\u001b[0m\u001b[0;34m\u001b[0m\u001b[0;34m\u001b[0m\u001b[0;34m\u001b[0m\u001b[0m\n\u001b[1;32m      3\u001b[0m \u001b[0mfilmes\u001b[0m\u001b[0;34m.\u001b[0m\u001b[0mcolumns\u001b[0m \u001b[0;34m=\u001b[0m \u001b[0;34m[\u001b[0m\u001b[0;34m\"filmeId\"\u001b[0m\u001b[0;34m,\u001b[0m \u001b[0;34m\"titulo\"\u001b[0m\u001b[0;34m,\u001b[0m \u001b[0;34m\"generos\"\u001b[0m\u001b[0;34m]\u001b[0m\u001b[0;34m\u001b[0m\u001b[0;34m\u001b[0m\u001b[0m\n\u001b[1;32m      4\u001b[0m \u001b[0mfilmes\u001b[0m\u001b[0;34m.\u001b[0m\u001b[0mhead\u001b[0m\u001b[0;34m(\u001b[0m\u001b[0;34m)\u001b[0m\u001b[0;34m\u001b[0m\u001b[0;34m\u001b[0m\u001b[0m\n",
            "\u001b[0;32m/usr/local/lib/python3.6/dist-packages/pandas/io/parsers.py\u001b[0m in \u001b[0;36mparser_f\u001b[0;34m(filepath_or_buffer, sep, delimiter, header, names, index_col, usecols, squeeze, prefix, mangle_dupe_cols, dtype, engine, converters, true_values, false_values, skipinitialspace, skiprows, skipfooter, nrows, na_values, keep_default_na, na_filter, verbose, skip_blank_lines, parse_dates, infer_datetime_format, keep_date_col, date_parser, dayfirst, cache_dates, iterator, chunksize, compression, thousands, decimal, lineterminator, quotechar, quoting, doublequote, escapechar, comment, encoding, dialect, error_bad_lines, warn_bad_lines, delim_whitespace, low_memory, memory_map, float_precision)\u001b[0m\n\u001b[1;32m    674\u001b[0m         )\n\u001b[1;32m    675\u001b[0m \u001b[0;34m\u001b[0m\u001b[0m\n\u001b[0;32m--> 676\u001b[0;31m         \u001b[0;32mreturn\u001b[0m \u001b[0m_read\u001b[0m\u001b[0;34m(\u001b[0m\u001b[0mfilepath_or_buffer\u001b[0m\u001b[0;34m,\u001b[0m \u001b[0mkwds\u001b[0m\u001b[0;34m)\u001b[0m\u001b[0;34m\u001b[0m\u001b[0;34m\u001b[0m\u001b[0m\n\u001b[0m\u001b[1;32m    677\u001b[0m \u001b[0;34m\u001b[0m\u001b[0m\n\u001b[1;32m    678\u001b[0m     \u001b[0mparser_f\u001b[0m\u001b[0;34m.\u001b[0m\u001b[0m__name__\u001b[0m \u001b[0;34m=\u001b[0m \u001b[0mname\u001b[0m\u001b[0;34m\u001b[0m\u001b[0;34m\u001b[0m\u001b[0m\n",
            "\u001b[0;32m/usr/local/lib/python3.6/dist-packages/pandas/io/parsers.py\u001b[0m in \u001b[0;36m_read\u001b[0;34m(filepath_or_buffer, kwds)\u001b[0m\n\u001b[1;32m    429\u001b[0m     \u001b[0;31m# See https://github.com/python/mypy/issues/1297\u001b[0m\u001b[0;34m\u001b[0m\u001b[0;34m\u001b[0m\u001b[0;34m\u001b[0m\u001b[0m\n\u001b[1;32m    430\u001b[0m     fp_or_buf, _, compression, should_close = get_filepath_or_buffer(\n\u001b[0;32m--> 431\u001b[0;31m         \u001b[0mfilepath_or_buffer\u001b[0m\u001b[0;34m,\u001b[0m \u001b[0mencoding\u001b[0m\u001b[0;34m,\u001b[0m \u001b[0mcompression\u001b[0m\u001b[0;34m\u001b[0m\u001b[0;34m\u001b[0m\u001b[0m\n\u001b[0m\u001b[1;32m    432\u001b[0m     )\n\u001b[1;32m    433\u001b[0m     \u001b[0mkwds\u001b[0m\u001b[0;34m[\u001b[0m\u001b[0;34m\"compression\"\u001b[0m\u001b[0;34m]\u001b[0m \u001b[0;34m=\u001b[0m \u001b[0mcompression\u001b[0m\u001b[0;34m\u001b[0m\u001b[0;34m\u001b[0m\u001b[0m\n",
            "\u001b[0;32m/usr/local/lib/python3.6/dist-packages/pandas/io/common.py\u001b[0m in \u001b[0;36mget_filepath_or_buffer\u001b[0;34m(filepath_or_buffer, encoding, compression, mode)\u001b[0m\n\u001b[1;32m    170\u001b[0m \u001b[0;34m\u001b[0m\u001b[0m\n\u001b[1;32m    171\u001b[0m     \u001b[0;32mif\u001b[0m \u001b[0misinstance\u001b[0m\u001b[0;34m(\u001b[0m\u001b[0mfilepath_or_buffer\u001b[0m\u001b[0;34m,\u001b[0m \u001b[0mstr\u001b[0m\u001b[0;34m)\u001b[0m \u001b[0;32mand\u001b[0m \u001b[0mis_url\u001b[0m\u001b[0;34m(\u001b[0m\u001b[0mfilepath_or_buffer\u001b[0m\u001b[0;34m)\u001b[0m\u001b[0;34m:\u001b[0m\u001b[0;34m\u001b[0m\u001b[0;34m\u001b[0m\u001b[0m\n\u001b[0;32m--> 172\u001b[0;31m         \u001b[0mreq\u001b[0m \u001b[0;34m=\u001b[0m \u001b[0murlopen\u001b[0m\u001b[0;34m(\u001b[0m\u001b[0mfilepath_or_buffer\u001b[0m\u001b[0;34m)\u001b[0m\u001b[0;34m\u001b[0m\u001b[0;34m\u001b[0m\u001b[0m\n\u001b[0m\u001b[1;32m    173\u001b[0m         \u001b[0mcontent_encoding\u001b[0m \u001b[0;34m=\u001b[0m \u001b[0mreq\u001b[0m\u001b[0;34m.\u001b[0m\u001b[0mheaders\u001b[0m\u001b[0;34m.\u001b[0m\u001b[0mget\u001b[0m\u001b[0;34m(\u001b[0m\u001b[0;34m\"Content-Encoding\"\u001b[0m\u001b[0;34m,\u001b[0m \u001b[0;32mNone\u001b[0m\u001b[0;34m)\u001b[0m\u001b[0;34m\u001b[0m\u001b[0;34m\u001b[0m\u001b[0m\n\u001b[1;32m    174\u001b[0m         \u001b[0;32mif\u001b[0m \u001b[0mcontent_encoding\u001b[0m \u001b[0;34m==\u001b[0m \u001b[0;34m\"gzip\"\u001b[0m\u001b[0;34m:\u001b[0m\u001b[0;34m\u001b[0m\u001b[0;34m\u001b[0m\u001b[0m\n",
            "\u001b[0;32m/usr/local/lib/python3.6/dist-packages/pandas/io/common.py\u001b[0m in \u001b[0;36murlopen\u001b[0;34m(*args, **kwargs)\u001b[0m\n\u001b[1;32m    139\u001b[0m     \u001b[0;32mimport\u001b[0m \u001b[0murllib\u001b[0m\u001b[0;34m.\u001b[0m\u001b[0mrequest\u001b[0m\u001b[0;34m\u001b[0m\u001b[0;34m\u001b[0m\u001b[0m\n\u001b[1;32m    140\u001b[0m \u001b[0;34m\u001b[0m\u001b[0m\n\u001b[0;32m--> 141\u001b[0;31m     \u001b[0;32mreturn\u001b[0m \u001b[0murllib\u001b[0m\u001b[0;34m.\u001b[0m\u001b[0mrequest\u001b[0m\u001b[0;34m.\u001b[0m\u001b[0murlopen\u001b[0m\u001b[0;34m(\u001b[0m\u001b[0;34m*\u001b[0m\u001b[0margs\u001b[0m\u001b[0;34m,\u001b[0m \u001b[0;34m**\u001b[0m\u001b[0mkwargs\u001b[0m\u001b[0;34m)\u001b[0m\u001b[0;34m\u001b[0m\u001b[0;34m\u001b[0m\u001b[0m\n\u001b[0m\u001b[1;32m    142\u001b[0m \u001b[0;34m\u001b[0m\u001b[0m\n\u001b[1;32m    143\u001b[0m \u001b[0;34m\u001b[0m\u001b[0m\n",
            "\u001b[0;32m/usr/lib/python3.6/urllib/request.py\u001b[0m in \u001b[0;36murlopen\u001b[0;34m(url, data, timeout, cafile, capath, cadefault, context)\u001b[0m\n\u001b[1;32m    221\u001b[0m     \u001b[0;32melse\u001b[0m\u001b[0;34m:\u001b[0m\u001b[0;34m\u001b[0m\u001b[0;34m\u001b[0m\u001b[0m\n\u001b[1;32m    222\u001b[0m         \u001b[0mopener\u001b[0m \u001b[0;34m=\u001b[0m \u001b[0m_opener\u001b[0m\u001b[0;34m\u001b[0m\u001b[0;34m\u001b[0m\u001b[0m\n\u001b[0;32m--> 223\u001b[0;31m     \u001b[0;32mreturn\u001b[0m \u001b[0mopener\u001b[0m\u001b[0;34m.\u001b[0m\u001b[0mopen\u001b[0m\u001b[0;34m(\u001b[0m\u001b[0murl\u001b[0m\u001b[0;34m,\u001b[0m \u001b[0mdata\u001b[0m\u001b[0;34m,\u001b[0m \u001b[0mtimeout\u001b[0m\u001b[0;34m)\u001b[0m\u001b[0;34m\u001b[0m\u001b[0;34m\u001b[0m\u001b[0m\n\u001b[0m\u001b[1;32m    224\u001b[0m \u001b[0;34m\u001b[0m\u001b[0m\n\u001b[1;32m    225\u001b[0m \u001b[0;32mdef\u001b[0m \u001b[0minstall_opener\u001b[0m\u001b[0;34m(\u001b[0m\u001b[0mopener\u001b[0m\u001b[0;34m)\u001b[0m\u001b[0;34m:\u001b[0m\u001b[0;34m\u001b[0m\u001b[0;34m\u001b[0m\u001b[0m\n",
            "\u001b[0;32m/usr/lib/python3.6/urllib/request.py\u001b[0m in \u001b[0;36mopen\u001b[0;34m(self, fullurl, data, timeout)\u001b[0m\n\u001b[1;32m    530\u001b[0m         \u001b[0;32mfor\u001b[0m \u001b[0mprocessor\u001b[0m \u001b[0;32min\u001b[0m \u001b[0mself\u001b[0m\u001b[0;34m.\u001b[0m\u001b[0mprocess_response\u001b[0m\u001b[0;34m.\u001b[0m\u001b[0mget\u001b[0m\u001b[0;34m(\u001b[0m\u001b[0mprotocol\u001b[0m\u001b[0;34m,\u001b[0m \u001b[0;34m[\u001b[0m\u001b[0;34m]\u001b[0m\u001b[0;34m)\u001b[0m\u001b[0;34m:\u001b[0m\u001b[0;34m\u001b[0m\u001b[0;34m\u001b[0m\u001b[0m\n\u001b[1;32m    531\u001b[0m             \u001b[0mmeth\u001b[0m \u001b[0;34m=\u001b[0m \u001b[0mgetattr\u001b[0m\u001b[0;34m(\u001b[0m\u001b[0mprocessor\u001b[0m\u001b[0;34m,\u001b[0m \u001b[0mmeth_name\u001b[0m\u001b[0;34m)\u001b[0m\u001b[0;34m\u001b[0m\u001b[0;34m\u001b[0m\u001b[0m\n\u001b[0;32m--> 532\u001b[0;31m             \u001b[0mresponse\u001b[0m \u001b[0;34m=\u001b[0m \u001b[0mmeth\u001b[0m\u001b[0;34m(\u001b[0m\u001b[0mreq\u001b[0m\u001b[0;34m,\u001b[0m \u001b[0mresponse\u001b[0m\u001b[0;34m)\u001b[0m\u001b[0;34m\u001b[0m\u001b[0;34m\u001b[0m\u001b[0m\n\u001b[0m\u001b[1;32m    533\u001b[0m \u001b[0;34m\u001b[0m\u001b[0m\n\u001b[1;32m    534\u001b[0m         \u001b[0;32mreturn\u001b[0m \u001b[0mresponse\u001b[0m\u001b[0;34m\u001b[0m\u001b[0;34m\u001b[0m\u001b[0m\n",
            "\u001b[0;32m/usr/lib/python3.6/urllib/request.py\u001b[0m in \u001b[0;36mhttp_response\u001b[0;34m(self, request, response)\u001b[0m\n\u001b[1;32m    640\u001b[0m         \u001b[0;32mif\u001b[0m \u001b[0;32mnot\u001b[0m \u001b[0;34m(\u001b[0m\u001b[0;36m200\u001b[0m \u001b[0;34m<=\u001b[0m \u001b[0mcode\u001b[0m \u001b[0;34m<\u001b[0m \u001b[0;36m300\u001b[0m\u001b[0;34m)\u001b[0m\u001b[0;34m:\u001b[0m\u001b[0;34m\u001b[0m\u001b[0;34m\u001b[0m\u001b[0m\n\u001b[1;32m    641\u001b[0m             response = self.parent.error(\n\u001b[0;32m--> 642\u001b[0;31m                 'http', request, response, code, msg, hdrs)\n\u001b[0m\u001b[1;32m    643\u001b[0m \u001b[0;34m\u001b[0m\u001b[0m\n\u001b[1;32m    644\u001b[0m         \u001b[0;32mreturn\u001b[0m \u001b[0mresponse\u001b[0m\u001b[0;34m\u001b[0m\u001b[0;34m\u001b[0m\u001b[0m\n",
            "\u001b[0;32m/usr/lib/python3.6/urllib/request.py\u001b[0m in \u001b[0;36merror\u001b[0;34m(self, proto, *args)\u001b[0m\n\u001b[1;32m    568\u001b[0m         \u001b[0;32mif\u001b[0m \u001b[0mhttp_err\u001b[0m\u001b[0;34m:\u001b[0m\u001b[0;34m\u001b[0m\u001b[0;34m\u001b[0m\u001b[0m\n\u001b[1;32m    569\u001b[0m             \u001b[0margs\u001b[0m \u001b[0;34m=\u001b[0m \u001b[0;34m(\u001b[0m\u001b[0mdict\u001b[0m\u001b[0;34m,\u001b[0m \u001b[0;34m'default'\u001b[0m\u001b[0;34m,\u001b[0m \u001b[0;34m'http_error_default'\u001b[0m\u001b[0;34m)\u001b[0m \u001b[0;34m+\u001b[0m \u001b[0morig_args\u001b[0m\u001b[0;34m\u001b[0m\u001b[0;34m\u001b[0m\u001b[0m\n\u001b[0;32m--> 570\u001b[0;31m             \u001b[0;32mreturn\u001b[0m \u001b[0mself\u001b[0m\u001b[0;34m.\u001b[0m\u001b[0m_call_chain\u001b[0m\u001b[0;34m(\u001b[0m\u001b[0;34m*\u001b[0m\u001b[0margs\u001b[0m\u001b[0;34m)\u001b[0m\u001b[0;34m\u001b[0m\u001b[0;34m\u001b[0m\u001b[0m\n\u001b[0m\u001b[1;32m    571\u001b[0m \u001b[0;34m\u001b[0m\u001b[0m\n\u001b[1;32m    572\u001b[0m \u001b[0;31m# XXX probably also want an abstract factory that knows when it makes\u001b[0m\u001b[0;34m\u001b[0m\u001b[0;34m\u001b[0m\u001b[0;34m\u001b[0m\u001b[0m\n",
            "\u001b[0;32m/usr/lib/python3.6/urllib/request.py\u001b[0m in \u001b[0;36m_call_chain\u001b[0;34m(self, chain, kind, meth_name, *args)\u001b[0m\n\u001b[1;32m    502\u001b[0m         \u001b[0;32mfor\u001b[0m \u001b[0mhandler\u001b[0m \u001b[0;32min\u001b[0m \u001b[0mhandlers\u001b[0m\u001b[0;34m:\u001b[0m\u001b[0;34m\u001b[0m\u001b[0;34m\u001b[0m\u001b[0m\n\u001b[1;32m    503\u001b[0m             \u001b[0mfunc\u001b[0m \u001b[0;34m=\u001b[0m \u001b[0mgetattr\u001b[0m\u001b[0;34m(\u001b[0m\u001b[0mhandler\u001b[0m\u001b[0;34m,\u001b[0m \u001b[0mmeth_name\u001b[0m\u001b[0;34m)\u001b[0m\u001b[0;34m\u001b[0m\u001b[0;34m\u001b[0m\u001b[0m\n\u001b[0;32m--> 504\u001b[0;31m             \u001b[0mresult\u001b[0m \u001b[0;34m=\u001b[0m \u001b[0mfunc\u001b[0m\u001b[0;34m(\u001b[0m\u001b[0;34m*\u001b[0m\u001b[0margs\u001b[0m\u001b[0;34m)\u001b[0m\u001b[0;34m\u001b[0m\u001b[0;34m\u001b[0m\u001b[0m\n\u001b[0m\u001b[1;32m    505\u001b[0m             \u001b[0;32mif\u001b[0m \u001b[0mresult\u001b[0m \u001b[0;32mis\u001b[0m \u001b[0;32mnot\u001b[0m \u001b[0;32mNone\u001b[0m\u001b[0;34m:\u001b[0m\u001b[0;34m\u001b[0m\u001b[0;34m\u001b[0m\u001b[0m\n\u001b[1;32m    506\u001b[0m                 \u001b[0;32mreturn\u001b[0m \u001b[0mresult\u001b[0m\u001b[0;34m\u001b[0m\u001b[0;34m\u001b[0m\u001b[0m\n",
            "\u001b[0;32m/usr/lib/python3.6/urllib/request.py\u001b[0m in \u001b[0;36mhttp_error_default\u001b[0;34m(self, req, fp, code, msg, hdrs)\u001b[0m\n\u001b[1;32m    648\u001b[0m \u001b[0;32mclass\u001b[0m \u001b[0mHTTPDefaultErrorHandler\u001b[0m\u001b[0;34m(\u001b[0m\u001b[0mBaseHandler\u001b[0m\u001b[0;34m)\u001b[0m\u001b[0;34m:\u001b[0m\u001b[0;34m\u001b[0m\u001b[0;34m\u001b[0m\u001b[0m\n\u001b[1;32m    649\u001b[0m     \u001b[0;32mdef\u001b[0m \u001b[0mhttp_error_default\u001b[0m\u001b[0;34m(\u001b[0m\u001b[0mself\u001b[0m\u001b[0;34m,\u001b[0m \u001b[0mreq\u001b[0m\u001b[0;34m,\u001b[0m \u001b[0mfp\u001b[0m\u001b[0;34m,\u001b[0m \u001b[0mcode\u001b[0m\u001b[0;34m,\u001b[0m \u001b[0mmsg\u001b[0m\u001b[0;34m,\u001b[0m \u001b[0mhdrs\u001b[0m\u001b[0;34m)\u001b[0m\u001b[0;34m:\u001b[0m\u001b[0;34m\u001b[0m\u001b[0;34m\u001b[0m\u001b[0m\n\u001b[0;32m--> 650\u001b[0;31m         \u001b[0;32mraise\u001b[0m \u001b[0mHTTPError\u001b[0m\u001b[0;34m(\u001b[0m\u001b[0mreq\u001b[0m\u001b[0;34m.\u001b[0m\u001b[0mfull_url\u001b[0m\u001b[0;34m,\u001b[0m \u001b[0mcode\u001b[0m\u001b[0;34m,\u001b[0m \u001b[0mmsg\u001b[0m\u001b[0;34m,\u001b[0m \u001b[0mhdrs\u001b[0m\u001b[0;34m,\u001b[0m \u001b[0mfp\u001b[0m\u001b[0;34m)\u001b[0m\u001b[0;34m\u001b[0m\u001b[0;34m\u001b[0m\u001b[0m\n\u001b[0m\u001b[1;32m    651\u001b[0m \u001b[0;34m\u001b[0m\u001b[0m\n\u001b[1;32m    652\u001b[0m \u001b[0;32mclass\u001b[0m \u001b[0mHTTPRedirectHandler\u001b[0m\u001b[0;34m(\u001b[0m\u001b[0mBaseHandler\u001b[0m\u001b[0;34m)\u001b[0m\u001b[0;34m:\u001b[0m\u001b[0;34m\u001b[0m\u001b[0;34m\u001b[0m\u001b[0m\n",
            "\u001b[0;31mHTTPError\u001b[0m: HTTP Error 500: Internal Server Error"
          ]
        }
      ]
    },
    {
      "cell_type": "markdown",
      "metadata": {
        "id": "wwcenqbGYGAO",
        "colab_type": "text"
      },
      "source": [
        "### Importando a base de Avaliação dos filmes"
      ]
    },
    {
      "cell_type": "code",
      "metadata": {
        "id": "7A1UmccVVLeK",
        "colab_type": "code",
        "colab": {}
      },
      "source": [
        "avaliacoes = pd.read_csv(\"https://github.com/alura-cursos/introducao-a-data-science/blob/master/aula0/ml-latest-small/ratings.csv?raw=true\")\n",
        "avaliacoes.columns = [\"usuarioId\", \"filmeId\", \"nota\", \"momento\"]\n",
        "avaliacoes.head()"
      ],
      "execution_count": 0,
      "outputs": []
    },
    {
      "cell_type": "markdown",
      "metadata": {
        "id": "iJ0nFiyXZu8M",
        "colab_type": "text"
      },
      "source": [
        "## Desafio 1 do [Paulo Silveira](https://twitter.com/paulo_caelum)\n",
        "\n",
        "O Paulo fez uma análise rápida e disse que tem 18 filmes sem avaliações, será que ele acertou?\n",
        "\n",
        "Determine quantos filmes não tem avaliações e quais são esses filmes.\n"
      ]
    },
    {
      "cell_type": "markdown",
      "metadata": {
        "id": "oKsPj8i0lRbt",
        "colab_type": "text"
      },
      "source": [
        "#### Resolução:"
      ]
    },
    {
      "cell_type": "markdown",
      "metadata": {
        "id": "EzcCsYTylXMc",
        "colab_type": "text"
      },
      "source": [
        "Primeiramente iremos agrupar as notas dos filmes por id e iremos utilizar a operação `mean` para sumarizá-los."
      ]
    },
    {
      "cell_type": "code",
      "metadata": {
        "id": "N1x6zxOUPHdG",
        "colab_type": "code",
        "colab": {}
      },
      "source": [
        "mediaFilmes = avaliacoes[['filmeId', 'nota']].groupby('filmeId').agg('mean')"
      ],
      "execution_count": 0,
      "outputs": []
    },
    {
      "cell_type": "code",
      "metadata": {
        "id": "ANRcSVU-Py9w",
        "colab_type": "code",
        "colab": {}
      },
      "source": [
        "mediaFilmes.head()"
      ],
      "execution_count": 0,
      "outputs": []
    },
    {
      "cell_type": "markdown",
      "metadata": {
        "id": "1RTzr87-ll5I",
        "colab_type": "text"
      },
      "source": [
        "Em seguida iremos dar o merge entre o DataFrame agrupado de médias com o DataFrame com informações dos filmes para termos o nome dos filmes e a nota média em um mesmo DataFrame.\n",
        "\n",
        "Obs: Importante ressaltar que o id do filme se encontra no index do agrupamento feito nas linhas acima, portanto teremos que utilizar o parâmetro `right_index=True`\n",
        "\n",
        "Obs2: Como podemos ter filmes que não tenham nota, ou seja, que não estejam presentes na tabela de notas, temos que utilizar o parâmetro `how='left'`, pois por padrão ele utiliza `how='inner'`, mostrando apenas registros que estejam presentes nas duas tabelas."
      ]
    },
    {
      "cell_type": "code",
      "metadata": {
        "id": "tB5ESMDYPbqo",
        "colab_type": "code",
        "colab": {}
      },
      "source": [
        "filmesComMedia = filmes[['filmeId', 'titulo']].merge(mediaFilmes, left_on='filmeId', right_index=True, how='left')"
      ],
      "execution_count": 0,
      "outputs": []
    },
    {
      "cell_type": "markdown",
      "metadata": {
        "id": "ISUPsWG-mqGo",
        "colab_type": "text"
      },
      "source": [
        "Por fim pedimos para que ele mostre todos os filmes que não tiveram notas registradas, ou seja, que tenham como conteúdo de `nota = NaN`"
      ]
    },
    {
      "cell_type": "code",
      "metadata": {
        "id": "c84OzKdpP_-9",
        "colab_type": "code",
        "colab": {}
      },
      "source": [
        "filmesComMedia.loc[filmesComMedia.nota.isna()]"
      ],
      "execution_count": 0,
      "outputs": []
    },
    {
      "cell_type": "markdown",
      "metadata": {
        "id": "3e8LMGJAaiXJ",
        "colab_type": "text"
      },
      "source": [
        "## Desafio 2 do [Guilherme Silveira](https://twitter.com/guilhermecaelum)\n",
        "\n",
        "Mudar o nome da coluna nota do dataframe **filmes_com_media** para nota_média após o join."
      ]
    },
    {
      "cell_type": "code",
      "metadata": {
        "id": "ARxiVPnZQb3r",
        "colab_type": "code",
        "colab": {}
      },
      "source": [
        "filmesComMedia.head()"
      ],
      "execution_count": 0,
      "outputs": []
    },
    {
      "cell_type": "markdown",
      "metadata": {
        "id": "zdYU07xONrRv",
        "colab_type": "text"
      },
      "source": [
        "Para resolver esse problema utilizaremos o método rename, passando um dicionário como primeiro parâmetro contendo:\n",
        "\n",
        "`{'nome_atual': 'nome_desejado}`\n",
        "\n",
        "Em seguida temos que utilizar o parâmetro `axis=1`, pois por padrão esse método utiliza `axis=0`, renomeando o `index` e não a coluna.\n",
        "\n",
        "O uso de `inplace=True` serve apenas para não gerar um novo DataFrame, mas sim atualizar o próprio DataFrame utilizado."
      ]
    },
    {
      "cell_type": "code",
      "metadata": {
        "id": "pqltVjVEQN_C",
        "colab_type": "code",
        "colab": {}
      },
      "source": [
        "filmesComMedia.rename({'nota':'nota_media'}, axis=1, inplace=True)"
      ],
      "execution_count": 0,
      "outputs": []
    },
    {
      "cell_type": "code",
      "metadata": {
        "id": "aaD8D6OxQeeQ",
        "colab_type": "code",
        "colab": {}
      },
      "source": [
        "filmesComMedia.head()"
      ],
      "execution_count": 0,
      "outputs": []
    },
    {
      "cell_type": "markdown",
      "metadata": {
        "id": "cXqu2wt0a2l6",
        "colab_type": "text"
      },
      "source": [
        "## Desafio 3 do [Guilherme Silveira](https://twitter.com/guilhermecaelum)\n",
        "\n",
        "Colocar o número de avaliações por filme, isto é, não só a média mas o TOTAL de votos por filme."
      ]
    },
    {
      "cell_type": "markdown",
      "metadata": {
        "id": "m7_tk5x_Olix",
        "colab_type": "text"
      },
      "source": [
        "Nesse desafio utilizei o método `value_counts` que simplesmente conta o número de vezes que algum elemento aparece em uma série.\n",
        "\n",
        "Importante ressaltar que o retorno desse método é uma `Serie` onde o `index` é a váriavel que foi contada e o `value` é o número de vezes que ela aparece."
      ]
    },
    {
      "cell_type": "code",
      "metadata": {
        "id": "GZL0oGKMQjX3",
        "colab_type": "code",
        "colab": {}
      },
      "source": [
        "numeroAvaliacoes = avaliacoes['filmeId'].value_counts()\n",
        "numeroAvaliacoes.head()"
      ],
      "execution_count": 0,
      "outputs": []
    },
    {
      "cell_type": "markdown",
      "metadata": {
        "id": "8rFkGd-BPEfA",
        "colab_type": "text"
      },
      "source": [
        "Agora faremos o merge, bem semelhante ao que tínhamos feito no **Desafio 1**, entre o nosso DataFrame de filmes com médias e a nossa Serie com o número de vezes que cada ID apareceu.\n",
        "\n",
        "Repare que estamos utilizando um DataFrame com todos os registros de filmes para o merge com um DataFrame contendo apenas os votos de cada file, como já sabemos que temos filmes que não foram votados, é interessante utilizarmos o parâmerto `how='left'` para esse merge também.\n",
        "\n",
        "Obs: Quando utitlizamos uma serie para fazer o merge com o DataFrame temos que ficar atentos aos nomes das colunas, pois o nome da coluna nova adicionada ao DataFrame é o nome da Série."
      ]
    },
    {
      "cell_type": "code",
      "metadata": {
        "id": "7WfHTLFMR1qH",
        "colab_type": "code",
        "colab": {}
      },
      "source": [
        "filmesVotosMedia = filmesComMedia.merge(numeroAvaliacoes, left_on='filmeId', right_index=True, how='left')\n",
        "filmesVotosMedia.rename({'filmeId_y': 'votos'}, axis=1, inplace=True)\n",
        "filmesVotosMedia.drop('filmeId_x', axis=1, inplace=True)\n",
        "filmesVotosMedia.head()"
      ],
      "execution_count": 0,
      "outputs": []
    },
    {
      "cell_type": "markdown",
      "metadata": {
        "id": "fZ5F6qwVeVWt",
        "colab_type": "text"
      },
      "source": [
        "## Desafio 4 do [Thiago Gonçalves](https://twitter.com/tgcsantos)\n",
        "\n",
        "\n",
        "Arredondar as médias (coluna de nota média) para duas casas decimais."
      ]
    },
    {
      "cell_type": "markdown",
      "metadata": {
        "id": "c0tSwdrVRbJV",
        "colab_type": "text"
      },
      "source": [
        "Para isso existe um método chamado `round`, onde você passa por parâmetro o número de casas decimais que você deseja."
      ]
    },
    {
      "cell_type": "code",
      "metadata": {
        "id": "HSYJ25V-dafg",
        "colab_type": "code",
        "colab": {}
      },
      "source": [
        "filmesVotosMedia = filmesVotosMedia.round(decimals=2)\n",
        "filmesVotosMedia.head()"
      ],
      "execution_count": 0,
      "outputs": []
    },
    {
      "cell_type": "markdown",
      "metadata": {
        "id": "mYzG73cSeigN",
        "colab_type": "text"
      },
      "source": [
        "## Desafio 5 do [Allan Spadini](https://twitter.com/allanspadini)\n",
        "\n",
        "Descobrir os generos dos filmes (quais são eles, únicos). (esse aqui o bicho pega)"
      ]
    },
    {
      "cell_type": "markdown",
      "metadata": {
        "id": "wITTEaMbjksU",
        "colab_type": "text"
      },
      "source": [
        "### Primeiro teremos que trabalhar com o padrão de string da coluna `'generos'`:<br>\n",
        "`'genero1|genero2|genero3'`"
      ]
    },
    {
      "cell_type": "code",
      "metadata": {
        "id": "fwMybSt5eQ1E",
        "colab_type": "code",
        "colab": {}
      },
      "source": [
        "filmes.head()"
      ],
      "execution_count": 0,
      "outputs": []
    },
    {
      "cell_type": "markdown",
      "metadata": {
        "id": "_FzXmkkyj5r7",
        "colab_type": "text"
      },
      "source": [
        "Iremos iterar cada linha do DataFrame e separar o genero em uma lista.\n",
        "\n",
        "Depois iremos adicionar o id do filme com um dos generos em outro DataFrame, gerando como resultado um DataFrame em que cada registro possui a relação de um filme com um `genero`."
      ]
    },
    {
      "cell_type": "code",
      "metadata": {
        "id": "WaACQIvDdntA",
        "colab_type": "code",
        "colab": {}
      },
      "source": [
        "separacaoGeneros = pd.DataFrame(columns=['filmeId', 'genero'])\n",
        "for indx, row in filmes.iterrows():\n",
        "  listaGeneros = row.generos.split('|')\n",
        "  for genero in listaGeneros:\n",
        "    separacaoGeneros = separacaoGeneros.append({'filmeId': row.filmeId, 'genero': genero}, ignore_index=True)\n",
        "separacaoGeneros.head() "
      ],
      "execution_count": 0,
      "outputs": []
    },
    {
      "cell_type": "markdown",
      "metadata": {
        "id": "tiuOnWLijf8h",
        "colab_type": "text"
      },
      "source": [
        "### Generos únicos de filmes"
      ]
    },
    {
      "cell_type": "markdown",
      "metadata": {
        "id": "Tfs3Sp_PSScB",
        "colab_type": "text"
      },
      "source": [
        "Para esse momento utilizaremos o DataFrame que nós montamos, filtrando uma coluna juntamente com o método `unique` que retorna uma lista com todos os valores únicos para determinada coluna."
      ]
    },
    {
      "cell_type": "code",
      "metadata": {
        "id": "aj6WME1GiS_r",
        "colab_type": "code",
        "colab": {}
      },
      "source": [
        "separacaoGeneros.genero.unique()"
      ],
      "execution_count": 0,
      "outputs": []
    },
    {
      "cell_type": "markdown",
      "metadata": {
        "id": "enM3lF2textZ",
        "colab_type": "text"
      },
      "source": [
        "## Desafio 6 da [Thais André](https://twitter.com/thais_tandre)\n",
        "\n",
        "Contar o número de aparições de cada genero."
      ]
    },
    {
      "cell_type": "markdown",
      "metadata": {
        "id": "oRiT8FBPSoCL",
        "colab_type": "text"
      },
      "source": [
        "Para esse Desafio a utilização do método `value_counts` na coluna `generos` é suficiente."
      ]
    },
    {
      "cell_type": "code",
      "metadata": {
        "id": "hqEDNhtJiPYy",
        "colab_type": "code",
        "colab": {}
      },
      "source": [
        "separacaoGeneros.genero.value_counts()"
      ],
      "execution_count": 0,
      "outputs": []
    },
    {
      "cell_type": "markdown",
      "metadata": {
        "id": "SVVAZGGdfA_s",
        "colab_type": "text"
      },
      "source": [
        "## Desafio 7 do [Guilherme Silveira](https://twitter.com/guilhermecaelum)\n",
        "\n",
        "Plotar o gráfico de aparições de cada genero. Pode ser um gráfico de tipo igual a barra."
      ]
    },
    {
      "cell_type": "markdown",
      "metadata": {
        "id": "MZqVKC71SxyD",
        "colab_type": "text"
      },
      "source": [
        "O `matplotlib` é uma das bibliotecas mais utilizadas para o plot de gráficos, porém demanda um controle a nível muito baixo de todas as variáveis, sendo assim preferi utilizar a biblioteca `seaborn`, que utiliza como base o `matplotlib`, mas permite um controle mais símples de alguns parâmetros."
      ]
    },
    {
      "cell_type": "code",
      "metadata": {
        "id": "KoB0BHdTiixM",
        "colab_type": "code",
        "colab": {}
      },
      "source": [
        "import seaborn as sns\n",
        "import matplotlib.pyplot as plt"
      ],
      "execution_count": 0,
      "outputs": []
    },
    {
      "cell_type": "markdown",
      "metadata": {
        "id": "vjrW5pYjTL1V",
        "colab_type": "text"
      },
      "source": [
        "Para deixar os plots com um tamanho e contraste melhor utilizarei o `style:'darkgrid'` e aumenterei o tamanho da figura."
      ]
    },
    {
      "cell_type": "code",
      "metadata": {
        "id": "9QRa7xDrThou",
        "colab_type": "code",
        "colab": {}
      },
      "source": [
        "sns.set_style('darkgrid')\n",
        "plt.rcParams['figure.figsize']=18,12"
      ],
      "execution_count": 0,
      "outputs": []
    },
    {
      "cell_type": "markdown",
      "metadata": {
        "id": "KZvgvjTPTVIc",
        "colab_type": "text"
      },
      "source": [
        "Para gerar um Histograma utilizando variáveis categoricas usando o seaborn temos que utilizar o método `countplot`, onde o primeiro parâmetro é a variável de interesse.\n",
        "\n",
        "Para esse caso, como se trata de uma variável categórica sem ordem definida - genero de filme não tem ordem - preferi deixar as barras em ordem decrescente, por isso utilizei o parâmetro `order`, que recebe uma lista com a ordem das variáveis categóricas. Utilizei o método `value_counts` pois ele retorna uma série ordenada descendente de aparição de elementos, contendo o nome do elemento no `index`."
      ]
    },
    {
      "cell_type": "code",
      "metadata": {
        "id": "3f7v75_Yid_P",
        "colab_type": "code",
        "colab": {}
      },
      "source": [
        "sns.countplot(separacaoGeneros.genero, order=separacaoGeneros.genero.value_counts().index)"
      ],
      "execution_count": 0,
      "outputs": []
    },
    {
      "cell_type": "markdown",
      "metadata": {
        "id": "5uIsDpkAz8oa",
        "colab_type": "text"
      },
      "source": [
        "#Não esqueça de compartilhar a solução dos seus desafios com nossos instrutores, seja no twitter ou linkedin. Boa sorte!"
      ]
    }
  ]
}